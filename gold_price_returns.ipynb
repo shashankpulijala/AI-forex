{
 "cells": [
  {
   "cell_type": "code",
   "execution_count": 5,
   "id": "73d43ff3-65d0-4f5a-8908-e9a68f680992",
   "metadata": {},
   "outputs": [
    {
     "name": "stderr",
     "output_type": "stream",
     "text": [
      "Failed to get ticker 'GLD' reason: Expecting value: line 1 column 1 (char 0)\n",
      "[*********************100%%**********************]  1 of 1 completed\n",
      "\n",
      "1 Failed download:\n",
      "['GLD']: JSONDecodeError('Expecting value: line 1 column 1 (char 0)')\n"
     ]
    },
    {
     "ename": "ValueError",
     "evalue": "No data was retrieved. Please check the ticker or your internet connection.",
     "output_type": "error",
     "traceback": [
      "\u001b[1;31m---------------------------------------------------------------------------\u001b[0m",
      "\u001b[1;31mValueError\u001b[0m                                Traceback (most recent call last)",
      "Cell \u001b[1;32mIn[5], line 11\u001b[0m\n\u001b[0;32m      8\u001b[0m data \u001b[38;5;241m=\u001b[39m yf\u001b[38;5;241m.\u001b[39mdownload(ticker, period\u001b[38;5;241m=\u001b[39m\u001b[38;5;124m\"\u001b[39m\u001b[38;5;124m5y\u001b[39m\u001b[38;5;124m\"\u001b[39m, interval\u001b[38;5;241m=\u001b[39m\u001b[38;5;124m\"\u001b[39m\u001b[38;5;124m1d\u001b[39m\u001b[38;5;124m\"\u001b[39m)\n\u001b[0;32m     10\u001b[0m \u001b[38;5;28;01mif\u001b[39;00m data\u001b[38;5;241m.\u001b[39mempty:\n\u001b[1;32m---> 11\u001b[0m     \u001b[38;5;28;01mraise\u001b[39;00m \u001b[38;5;167;01mValueError\u001b[39;00m(\u001b[38;5;124m\"\u001b[39m\u001b[38;5;124mNo data was retrieved. Please check the ticker or your internet connection.\u001b[39m\u001b[38;5;124m\"\u001b[39m)\n\u001b[0;32m     13\u001b[0m \u001b[38;5;28mprint\u001b[39m(\u001b[38;5;124m\"\u001b[39m\u001b[38;5;124mRaw Data Head:\u001b[39m\u001b[38;5;124m\"\u001b[39m)\n\u001b[0;32m     14\u001b[0m \u001b[38;5;28mprint\u001b[39m(data\u001b[38;5;241m.\u001b[39mhead())\n",
      "\u001b[1;31mValueError\u001b[0m: No data was retrieved. Please check the ticker or your internet connection."
     ]
    }
   ],
   "source": [
    "import yfinance as yf\n",
    "import pandas as pd\n",
    "import numpy as np\n",
    "import ta  # pip install ta\n",
    "\n",
    "# 1. Data Collection using an alternative ticker (\"GLD\")\n",
    "ticker = \"GLD\"  # Gold ETF ticker on Yahoo Finance\n",
    "data = yf.download(ticker, period=\"5y\", interval=\"1d\")\n",
    "\n",
    "if data.empty:\n",
    "    raise ValueError(\"No data was retrieved. Please check the ticker or your internet connection.\")\n",
    "\n",
    "print(\"Raw Data Head:\")\n",
    "print(data.head())\n",
    "\n",
    "# 2. Feature Engineering: Compute key technical indicators\n",
    "\n",
    "# Simple Moving Average (20-day)\n",
    "data['SMA20'] = data['Close'].rolling(window=20).mean()\n",
    "\n",
    "# Relative Strength Index (RSI) with a 14-day window\n",
    "data['RSI'] = ta.momentum.rsi(data['Close'], window=14)\n",
    "\n",
    "# MACD (Moving Average Convergence Divergence)\n",
    "macd = ta.trend.MACD(data['Close'])\n",
    "data['MACD'] = macd.macd()\n",
    "data['MACD_signal'] = macd.macd_signal()\n",
    "\n",
    "# Bollinger Bands (20-day window with 2 standard deviations)\n",
    "bollinger = ta.volatility.BollingerBands(data['Close'], window=20, window_dev=2)\n",
    "data['Bollinger_High'] = bollinger.bollinger_hband()\n",
    "data['Bollinger_Low'] = bollinger.bollinger_lband()\n",
    "\n",
    "# 3. Create the Target: Next Day Return\n",
    "# The raw OHLC data is used to compute these indicators and the target;\n",
    "# however, they don't necessarily have to be used as features.\n",
    "data['Return'] = data['Close'].pct_change().shift(-1)\n",
    "\n",
    "# Drop rows with missing values (due to rolling calculations and shifting)\n",
    "data.dropna(inplace=True)\n",
    "\n",
    "# 4. Prepare the Feature Set\n",
    "# We'll use the computed technical indicators as our features.\n",
    "features = data[['SMA20', 'RSI', 'MACD', 'MACD_signal', 'Bollinger_High', 'Bollinger_Low']]\n",
    "target = data['Return']\n",
    "\n",
    "# Optional: inspect the prepared features and target\n",
    "print(\"\\nFeatures Head:\")\n",
    "print(features.head())\n",
    "print(\"\\nTarget (Next Day Return) Head:\")\n",
    "print(target.head())\n",
    "\n",
    "# Now, 'features' and 'target' are ready for use in a regression task to predict\n",
    "# the magnitude of the next day's price change.\n"
   ]
  },
  {
   "cell_type": "code",
   "execution_count": 6,
   "id": "28a08d1e-89db-4b74-b522-9a99fd80c5b0",
   "metadata": {},
   "outputs": [
    {
     "data": {
      "text/plain": [
       "'b5c2099919a2a704815b709fba4f167d-210831ef47a2e4f07292f3cefea33b5d'"
      ]
     },
     "execution_count": 6,
     "metadata": {},
     "output_type": "execute_result"
    }
   ],
   "source": [
    "\"b5c2099919a2a704815b709fba4f167d-210831ef47a2e4f07292f3cefea33b5d\""
   ]
  },
  {
   "cell_type": "code",
   "execution_count": 7,
   "id": "3a69e6ca-778e-49fe-9511-89ef0847fbb9",
   "metadata": {},
   "outputs": [
    {
     "ename": "ModuleNotFoundError",
     "evalue": "No module named 'oandapyV20'",
     "output_type": "error",
     "traceback": [
      "\u001b[1;31m---------------------------------------------------------------------------\u001b[0m",
      "\u001b[1;31mModuleNotFoundError\u001b[0m                       Traceback (most recent call last)",
      "Cell \u001b[1;32mIn[7], line 1\u001b[0m\n\u001b[1;32m----> 1\u001b[0m \u001b[38;5;28;01mimport\u001b[39;00m \u001b[38;5;21;01moandapyV20\u001b[39;00m\n\u001b[0;32m      2\u001b[0m \u001b[38;5;28;01mfrom\u001b[39;00m \u001b[38;5;21;01moandapyV20\u001b[39;00m \u001b[38;5;28;01mimport\u001b[39;00m API\n",
      "\u001b[1;31mModuleNotFoundError\u001b[0m: No module named 'oandapyV20'"
     ]
    }
   ],
   "source": [
    "import oandapyV20\n",
    "from oandapyV20 import API\n"
   ]
  },
  {
   "cell_type": "code",
   "execution_count": 8,
   "id": "eee74727-ffec-4fd0-bb2f-db57f1492cc7",
   "metadata": {},
   "outputs": [
    {
     "name": "stderr",
     "output_type": "stream",
     "text": [
      "WARNING: Ignoring invalid distribution -ensorflow-intel (c:\\users\\shashank\\anaconda3\\lib\\site-packages)\n",
      "WARNING: Error parsing dependencies of lightning-lite: .* suffix can only be used with `==` or `!=` operators\n",
      "    torch (>=1.9.*)\n",
      "           ~~~~~~^\n",
      "WARNING: Error parsing dependencies of pytorch-lightning: .* suffix can only be used with `==` or `!=` operators"
     ]
    },
    {
     "name": "stdout",
     "output_type": "stream",
     "text": [
      "Collecting oandapyV20\n",
      "  Downloading oandapyV20-0.7.2.tar.gz (51 kB)\n",
      "  Preparing metadata (setup.py): started\n",
      "  Preparing metadata (setup.py): finished with status 'done'\n",
      "Building wheels for collected packages: oandapyV20\n",
      "  Building wheel for oandapyV20 (setup.py): started\n",
      "  Building wheel for oandapyV20 (setup.py): finished with status 'done'\n",
      "  Created wheel for oandapyV20: filename=oandapyV20-0.7.2-py3-none-any.whl size=69848 sha256=0651cbcefff2385e95c5facd91bc3b85cb0891b8c59b3a82bcc2a08bcc56091f\n",
      "  Stored in directory: c:\\users\\shashank\\appdata\\local\\pip\\cache\\wheels\\a6\\a4\\5b\\f3a35a028b0e2fe8e5dc29f03bd9acaed72b5ae9775d14fb38\n",
      "Successfully built oandapyV20\n",
      "Installing collected packages: oandapyV20\n",
      "Successfully installed oandapyV20-0.7.2\n"
     ]
    },
    {
     "name": "stderr",
     "output_type": "stream",
     "text": [
      "\n",
      "    torch (>=1.9.*)\n",
      "           ~~~~~~^\n",
      "WARNING: Ignoring invalid distribution -ensorflow-intel (c:\\users\\shashank\\anaconda3\\lib\\site-packages)\n",
      "WARNING: Ignoring invalid distribution -ensorflow-intel (c:\\users\\shashank\\anaconda3\\lib\\site-packages)\n",
      "\n",
      "[notice] A new release of pip is available: 24.3.1 -> 25.0.1\n",
      "[notice] To update, run: python.exe -m pip install --upgrade pip\n"
     ]
    }
   ],
   "source": [
    "!pip install oandapyV20"
   ]
  },
  {
   "cell_type": "code",
   "execution_count": 9,
   "id": "f95d20ed-93b3-4162-ad0f-38555c778219",
   "metadata": {},
   "outputs": [
    {
     "name": "stdout",
     "output_type": "stream",
     "text": [
      "Data Head from OANDA:\n",
      "                               Open      High       Low     Close\n",
      "Date                                                             \n",
      "2020-03-19 21:00:00+00:00  1470.276  1516.153  1455.320  1499.094\n",
      "2020-03-22 21:00:00+00:00  1501.337  1561.228  1482.823  1553.114\n",
      "2020-03-23 21:00:00+00:00  1553.232  1634.440  1552.933  1627.730\n",
      "2020-03-24 21:00:00+00:00  1629.657  1640.228  1596.376  1617.351\n",
      "2020-03-25 21:00:00+00:00  1615.513  1644.433  1597.794  1630.183\n",
      "\n",
      "Features Head:\n",
      "                                SMA20        RSI       MACD  MACD_signal  \\\n",
      "Date                                                                       \n",
      "2020-05-06 21:00:00+00:00  1706.59600  60.359187  23.243456    30.064837   \n",
      "2020-05-07 21:00:00+00:00  1707.54025  56.449796  21.598977    28.371665   \n",
      "2020-05-10 21:00:00+00:00  1706.75590  55.090119  19.692847    26.635901   \n",
      "2020-05-11 21:00:00+00:00  1705.52015  56.242222  18.352182    24.979158   \n",
      "2020-05-12 21:00:00+00:00  1705.57055  59.659251  18.249038    23.633134   \n",
      "\n",
      "                           Bollinger_High  Bollinger_Low  \n",
      "Date                                                      \n",
      "2020-05-06 21:00:00+00:00     1736.681472    1676.510528  \n",
      "2020-05-07 21:00:00+00:00     1735.797434    1679.283066  \n",
      "2020-05-10 21:00:00+00:00     1735.187151    1678.324649  \n",
      "2020-05-11 21:00:00+00:00     1732.400082    1678.640218  \n",
      "2020-05-12 21:00:00+00:00     1732.532158    1678.608942  \n",
      "\n",
      "Target (Next Day Return) Head:\n",
      "Date\n",
      "2020-05-06 21:00:00+00:00   -0.007673\n",
      "2020-05-07 21:00:00+00:00   -0.002736\n",
      "2020-05-10 21:00:00+00:00    0.002785\n",
      "2020-05-11 21:00:00+00:00    0.008515\n",
      "2020-05-12 21:00:00+00:00    0.008055\n",
      "Name: Return, dtype: float64\n"
     ]
    }
   ],
   "source": [
    "import oandapyV20\n",
    "from oandapyV20 import API\n",
    "import oandapyV20.endpoints.instruments as instruments\n",
    "import pandas as pd\n",
    "import numpy as np\n",
    "from datetime import datetime, timedelta\n",
    "import ta  # pip install ta\n",
    "\n",
    "# --- SETUP: OANDA API Credentials ---\n",
    "account_id = \"101-011-29597843-001\"        # Replace with your account ID\n",
    "access_token = \"b5c2099919a2a704815b709fba4f167d-210831ef47a2e4f07292f3cefea33b5d\"      # Replace with your OANDA API access token\n",
    "client = API(access_token=access_token)\n",
    "\n",
    "# --- Define the time range for the past 5 years ---\n",
    "end_date = datetime.utcnow()\n",
    "start_date = end_date - timedelta(days=5*365)\n",
    "start_str = start_date.strftime(\"%Y-%m-%dT00:00:00Z\")\n",
    "end_str = end_date.strftime(\"%Y-%m-%dT00:00:00Z\")\n",
    "\n",
    "# --- Set Parameters for the Request ---\n",
    "params = {\n",
    "    \"from\": start_str,\n",
    "    \"to\": end_str,\n",
    "    \"granularity\": \"D\",  # Daily candles\n",
    "    \"price\": \"M\"         # Use mid prices\n",
    "}\n",
    "\n",
    "# --- Request Historical Data for XAU/USD ---\n",
    "instrument = \"XAU_USD\"\n",
    "r = instruments.InstrumentsCandles(instrument=instrument, params=params)\n",
    "client.request(r)\n",
    "candles = r.response.get('candles', [])\n",
    "\n",
    "# --- Convert Retrieved Data to a DataFrame ---\n",
    "data = []\n",
    "for candle in candles:\n",
    "    if candle[\"complete\"]:\n",
    "        time = candle[\"time\"]\n",
    "        o = float(candle[\"mid\"][\"o\"])\n",
    "        h = float(candle[\"mid\"][\"h\"])\n",
    "        l = float(candle[\"mid\"][\"l\"])\n",
    "        c = float(candle[\"mid\"][\"c\"])\n",
    "        data.append([time, o, h, l, c])\n",
    "        \n",
    "df = pd.DataFrame(data, columns=[\"Date\", \"Open\", \"High\", \"Low\", \"Close\"])\n",
    "df[\"Date\"] = pd.to_datetime(df[\"Date\"])\n",
    "df.set_index(\"Date\", inplace=True)\n",
    "print(\"Data Head from OANDA:\")\n",
    "print(df.head())\n",
    "\n",
    "# --- Feature Engineering: Compute Technical Indicators ---\n",
    "# 20-day Simple Moving Average\n",
    "df['SMA20'] = df['Close'].rolling(window=20).mean()\n",
    "\n",
    "# 14-day Relative Strength Index\n",
    "df['RSI'] = ta.momentum.rsi(df['Close'], window=14)\n",
    "\n",
    "# MACD and MACD Signal\n",
    "macd = ta.trend.MACD(df['Close'])\n",
    "df['MACD'] = macd.macd()\n",
    "df['MACD_signal'] = macd.macd_signal()\n",
    "\n",
    "# Bollinger Bands (20-day window, 2 std deviations)\n",
    "bollinger = ta.volatility.BollingerBands(df['Close'], window=20, window_dev=2)\n",
    "df['Bollinger_High'] = bollinger.bollinger_hband()\n",
    "df['Bollinger_Low'] = bollinger.bollinger_lband()\n",
    "\n",
    "# --- Create the Target: Next Day Return ---\n",
    "df['Return'] = df['Close'].pct_change().shift(-1)\n",
    "\n",
    "# --- Drop Rows with Missing Values ---\n",
    "df.dropna(inplace=True)\n",
    "\n",
    "# --- Prepare the Feature Set ---\n",
    "features = df[['SMA20', 'RSI', 'MACD', 'MACD_signal', 'Bollinger_High', 'Bollinger_Low']]\n",
    "target = df['Return']\n",
    "\n",
    "# --- Inspect the Prepared Data ---\n",
    "print(\"\\nFeatures Head:\")\n",
    "print(features.head())\n",
    "print(\"\\nTarget (Next Day Return) Head:\")\n",
    "print(target.head())\n"
   ]
  },
  {
   "cell_type": "code",
   "execution_count": 10,
   "id": "9463b278-8ef9-4b4a-9486-968420fc6ecb",
   "metadata": {},
   "outputs": [
    {
     "data": {
      "text/plain": [
       "(1255, 11)"
      ]
     },
     "execution_count": 10,
     "metadata": {},
     "output_type": "execute_result"
    }
   ],
   "source": [
    "df.shape"
   ]
  },
  {
   "cell_type": "code",
   "execution_count": 11,
   "id": "bfb1258f-bdde-4f41-b297-19d42216e9f2",
   "metadata": {},
   "outputs": [
    {
     "data": {
      "text/html": [
       "<div>\n",
       "<style scoped>\n",
       "    .dataframe tbody tr th:only-of-type {\n",
       "        vertical-align: middle;\n",
       "    }\n",
       "\n",
       "    .dataframe tbody tr th {\n",
       "        vertical-align: top;\n",
       "    }\n",
       "\n",
       "    .dataframe thead th {\n",
       "        text-align: right;\n",
       "    }\n",
       "</style>\n",
       "<table border=\"1\" class=\"dataframe\">\n",
       "  <thead>\n",
       "    <tr style=\"text-align: right;\">\n",
       "      <th></th>\n",
       "      <th>SMA20</th>\n",
       "      <th>RSI</th>\n",
       "      <th>MACD</th>\n",
       "      <th>MACD_signal</th>\n",
       "      <th>Bollinger_High</th>\n",
       "      <th>Bollinger_Low</th>\n",
       "    </tr>\n",
       "    <tr>\n",
       "      <th>Date</th>\n",
       "      <th></th>\n",
       "      <th></th>\n",
       "      <th></th>\n",
       "      <th></th>\n",
       "      <th></th>\n",
       "      <th></th>\n",
       "    </tr>\n",
       "  </thead>\n",
       "  <tbody>\n",
       "    <tr>\n",
       "      <th>2025-03-10 21:00:00+00:00</th>\n",
       "      <td>2911.65560</td>\n",
       "      <td>57.750335</td>\n",
       "      <td>23.492875</td>\n",
       "      <td>31.566524</td>\n",
       "      <td>2957.323367</td>\n",
       "      <td>2865.987833</td>\n",
       "    </tr>\n",
       "    <tr>\n",
       "      <th>2025-03-11 21:00:00+00:00</th>\n",
       "      <td>2913.13810</td>\n",
       "      <td>60.747380</td>\n",
       "      <td>24.031030</td>\n",
       "      <td>30.059425</td>\n",
       "      <td>2959.627974</td>\n",
       "      <td>2866.648226</td>\n",
       "    </tr>\n",
       "    <tr>\n",
       "      <th>2025-03-12 21:00:00+00:00</th>\n",
       "      <td>2916.15635</td>\n",
       "      <td>68.213764</td>\n",
       "      <td>28.573048</td>\n",
       "      <td>29.762150</td>\n",
       "      <td>2972.905617</td>\n",
       "      <td>2859.407083</td>\n",
       "    </tr>\n",
       "    <tr>\n",
       "      <th>2025-03-13 21:00:00+00:00</th>\n",
       "      <td>2921.27775</td>\n",
       "      <td>67.266959</td>\n",
       "      <td>31.504053</td>\n",
       "      <td>30.110531</td>\n",
       "      <td>2983.198545</td>\n",
       "      <td>2859.356955</td>\n",
       "    </tr>\n",
       "    <tr>\n",
       "      <th>2025-03-16 21:00:00+00:00</th>\n",
       "      <td>2926.40975</td>\n",
       "      <td>69.237476</td>\n",
       "      <td>34.735308</td>\n",
       "      <td>31.035486</td>\n",
       "      <td>2996.411573</td>\n",
       "      <td>2856.407927</td>\n",
       "    </tr>\n",
       "  </tbody>\n",
       "</table>\n",
       "</div>"
      ],
      "text/plain": [
       "                                SMA20        RSI       MACD  MACD_signal  \\\n",
       "Date                                                                       \n",
       "2025-03-10 21:00:00+00:00  2911.65560  57.750335  23.492875    31.566524   \n",
       "2025-03-11 21:00:00+00:00  2913.13810  60.747380  24.031030    30.059425   \n",
       "2025-03-12 21:00:00+00:00  2916.15635  68.213764  28.573048    29.762150   \n",
       "2025-03-13 21:00:00+00:00  2921.27775  67.266959  31.504053    30.110531   \n",
       "2025-03-16 21:00:00+00:00  2926.40975  69.237476  34.735308    31.035486   \n",
       "\n",
       "                           Bollinger_High  Bollinger_Low  \n",
       "Date                                                      \n",
       "2025-03-10 21:00:00+00:00     2957.323367    2865.987833  \n",
       "2025-03-11 21:00:00+00:00     2959.627974    2866.648226  \n",
       "2025-03-12 21:00:00+00:00     2972.905617    2859.407083  \n",
       "2025-03-13 21:00:00+00:00     2983.198545    2859.356955  \n",
       "2025-03-16 21:00:00+00:00     2996.411573    2856.407927  "
      ]
     },
     "execution_count": 11,
     "metadata": {},
     "output_type": "execute_result"
    }
   ],
   "source": [
    "features.tail()"
   ]
  },
  {
   "cell_type": "code",
   "execution_count": null,
   "id": "97358f3d-0f16-46ee-8775-edfbf6162800",
   "metadata": {},
   "outputs": [],
   "source": []
  }
 ],
 "metadata": {
  "kernelspec": {
   "display_name": "Python 3 (ipykernel)",
   "language": "python",
   "name": "python3"
  },
  "language_info": {
   "codemirror_mode": {
    "name": "ipython",
    "version": 3
   },
   "file_extension": ".py",
   "mimetype": "text/x-python",
   "name": "python",
   "nbconvert_exporter": "python",
   "pygments_lexer": "ipython3",
   "version": "3.9.12"
  }
 },
 "nbformat": 4,
 "nbformat_minor": 5
}
